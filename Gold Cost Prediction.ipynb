{
 "cells": [
  {
   "cell_type": "code",
   "execution_count": 1,
   "id": "6d776c44",
   "metadata": {},
   "outputs": [],
   "source": [
    "import numpy as np\n",
    "import pandas as pd\n",
    "import matplotlib.pyplot as plt\n",
    "import seaborn as sns\n",
    "from sklearn.model_selection import train_test_split\n",
    "from sklearn.ensemble import RandomForestRegressor\n",
    "from sklearn import metrics"
   ]
  },
  {
   "cell_type": "code",
   "execution_count": 2,
   "id": "4f84ee5c",
   "metadata": {},
   "outputs": [],
   "source": [
    "gold_data = pd.read_csv('gld_price_data.csv')"
   ]
  },
  {
   "cell_type": "code",
   "execution_count": 3,
   "id": "5aae4b41",
   "metadata": {},
   "outputs": [
    {
     "data": {
      "text/html": [
       "<div>\n",
       "<style scoped>\n",
       "    .dataframe tbody tr th:only-of-type {\n",
       "        vertical-align: middle;\n",
       "    }\n",
       "\n",
       "    .dataframe tbody tr th {\n",
       "        vertical-align: top;\n",
       "    }\n",
       "\n",
       "    .dataframe thead th {\n",
       "        text-align: right;\n",
       "    }\n",
       "</style>\n",
       "<table border=\"1\" class=\"dataframe\">\n",
       "  <thead>\n",
       "    <tr style=\"text-align: right;\">\n",
       "      <th></th>\n",
       "      <th>Date</th>\n",
       "      <th>SPX</th>\n",
       "      <th>GLD</th>\n",
       "      <th>USO</th>\n",
       "      <th>SLV</th>\n",
       "      <th>EUR/USD</th>\n",
       "    </tr>\n",
       "  </thead>\n",
       "  <tbody>\n",
       "    <tr>\n",
       "      <th>0</th>\n",
       "      <td>1/2/2008</td>\n",
       "      <td>1447.160034</td>\n",
       "      <td>84.860001</td>\n",
       "      <td>78.470001</td>\n",
       "      <td>15.180</td>\n",
       "      <td>1.471692</td>\n",
       "    </tr>\n",
       "    <tr>\n",
       "      <th>1</th>\n",
       "      <td>1/3/2008</td>\n",
       "      <td>1447.160034</td>\n",
       "      <td>85.570000</td>\n",
       "      <td>78.370003</td>\n",
       "      <td>15.285</td>\n",
       "      <td>1.474491</td>\n",
       "    </tr>\n",
       "    <tr>\n",
       "      <th>2</th>\n",
       "      <td>1/4/2008</td>\n",
       "      <td>1411.630005</td>\n",
       "      <td>85.129997</td>\n",
       "      <td>77.309998</td>\n",
       "      <td>15.167</td>\n",
       "      <td>1.475492</td>\n",
       "    </tr>\n",
       "    <tr>\n",
       "      <th>3</th>\n",
       "      <td>1/7/2008</td>\n",
       "      <td>1416.180054</td>\n",
       "      <td>84.769997</td>\n",
       "      <td>75.500000</td>\n",
       "      <td>15.053</td>\n",
       "      <td>1.468299</td>\n",
       "    </tr>\n",
       "    <tr>\n",
       "      <th>4</th>\n",
       "      <td>1/8/2008</td>\n",
       "      <td>1390.189941</td>\n",
       "      <td>86.779999</td>\n",
       "      <td>76.059998</td>\n",
       "      <td>15.590</td>\n",
       "      <td>1.557099</td>\n",
       "    </tr>\n",
       "  </tbody>\n",
       "</table>\n",
       "</div>"
      ],
      "text/plain": [
       "       Date          SPX        GLD        USO     SLV   EUR/USD\n",
       "0  1/2/2008  1447.160034  84.860001  78.470001  15.180  1.471692\n",
       "1  1/3/2008  1447.160034  85.570000  78.370003  15.285  1.474491\n",
       "2  1/4/2008  1411.630005  85.129997  77.309998  15.167  1.475492\n",
       "3  1/7/2008  1416.180054  84.769997  75.500000  15.053  1.468299\n",
       "4  1/8/2008  1390.189941  86.779999  76.059998  15.590  1.557099"
      ]
     },
     "execution_count": 3,
     "metadata": {},
     "output_type": "execute_result"
    }
   ],
   "source": [
    "gold_data.head()"
   ]
  },
  {
   "cell_type": "code",
   "execution_count": 4,
   "id": "3c42b362",
   "metadata": {},
   "outputs": [
    {
     "data": {
      "text/plain": [
       "(2290, 6)"
      ]
     },
     "execution_count": 4,
     "metadata": {},
     "output_type": "execute_result"
    }
   ],
   "source": [
    "gold_data.shape"
   ]
  },
  {
   "cell_type": "code",
   "execution_count": 5,
   "id": "b91a6813",
   "metadata": {},
   "outputs": [
    {
     "name": "stdout",
     "output_type": "stream",
     "text": [
      "<class 'pandas.core.frame.DataFrame'>\n",
      "RangeIndex: 2290 entries, 0 to 2289\n",
      "Data columns (total 6 columns):\n",
      " #   Column   Non-Null Count  Dtype  \n",
      "---  ------   --------------  -----  \n",
      " 0   Date     2290 non-null   object \n",
      " 1   SPX      2290 non-null   float64\n",
      " 2   GLD      2290 non-null   float64\n",
      " 3   USO      2290 non-null   float64\n",
      " 4   SLV      2290 non-null   float64\n",
      " 5   EUR/USD  2290 non-null   float64\n",
      "dtypes: float64(5), object(1)\n",
      "memory usage: 107.5+ KB\n"
     ]
    }
   ],
   "source": [
    "gold_data.info()"
   ]
  },
  {
   "cell_type": "code",
   "execution_count": 6,
   "id": "4e365985",
   "metadata": {},
   "outputs": [
    {
     "data": {
      "text/plain": [
       "Date       0\n",
       "SPX        0\n",
       "GLD        0\n",
       "USO        0\n",
       "SLV        0\n",
       "EUR/USD    0\n",
       "dtype: int64"
      ]
     },
     "execution_count": 6,
     "metadata": {},
     "output_type": "execute_result"
    }
   ],
   "source": [
    "gold_data.isnull().sum()"
   ]
  },
  {
   "cell_type": "code",
   "execution_count": 7,
   "id": "21ce2737",
   "metadata": {},
   "outputs": [
    {
     "data": {
      "text/html": [
       "<div>\n",
       "<style scoped>\n",
       "    .dataframe tbody tr th:only-of-type {\n",
       "        vertical-align: middle;\n",
       "    }\n",
       "\n",
       "    .dataframe tbody tr th {\n",
       "        vertical-align: top;\n",
       "    }\n",
       "\n",
       "    .dataframe thead th {\n",
       "        text-align: right;\n",
       "    }\n",
       "</style>\n",
       "<table border=\"1\" class=\"dataframe\">\n",
       "  <thead>\n",
       "    <tr style=\"text-align: right;\">\n",
       "      <th></th>\n",
       "      <th>SPX</th>\n",
       "      <th>GLD</th>\n",
       "      <th>USO</th>\n",
       "      <th>SLV</th>\n",
       "      <th>EUR/USD</th>\n",
       "    </tr>\n",
       "  </thead>\n",
       "  <tbody>\n",
       "    <tr>\n",
       "      <th>count</th>\n",
       "      <td>2290.000000</td>\n",
       "      <td>2290.000000</td>\n",
       "      <td>2290.000000</td>\n",
       "      <td>2290.000000</td>\n",
       "      <td>2290.000000</td>\n",
       "    </tr>\n",
       "    <tr>\n",
       "      <th>mean</th>\n",
       "      <td>1654.315776</td>\n",
       "      <td>122.732875</td>\n",
       "      <td>31.842221</td>\n",
       "      <td>20.084997</td>\n",
       "      <td>1.283653</td>\n",
       "    </tr>\n",
       "    <tr>\n",
       "      <th>std</th>\n",
       "      <td>519.111540</td>\n",
       "      <td>23.283346</td>\n",
       "      <td>19.523517</td>\n",
       "      <td>7.092566</td>\n",
       "      <td>0.131547</td>\n",
       "    </tr>\n",
       "    <tr>\n",
       "      <th>min</th>\n",
       "      <td>676.530029</td>\n",
       "      <td>70.000000</td>\n",
       "      <td>7.960000</td>\n",
       "      <td>8.850000</td>\n",
       "      <td>1.039047</td>\n",
       "    </tr>\n",
       "    <tr>\n",
       "      <th>25%</th>\n",
       "      <td>1239.874969</td>\n",
       "      <td>109.725000</td>\n",
       "      <td>14.380000</td>\n",
       "      <td>15.570000</td>\n",
       "      <td>1.171313</td>\n",
       "    </tr>\n",
       "    <tr>\n",
       "      <th>50%</th>\n",
       "      <td>1551.434998</td>\n",
       "      <td>120.580002</td>\n",
       "      <td>33.869999</td>\n",
       "      <td>17.268500</td>\n",
       "      <td>1.303297</td>\n",
       "    </tr>\n",
       "    <tr>\n",
       "      <th>75%</th>\n",
       "      <td>2073.010070</td>\n",
       "      <td>132.840004</td>\n",
       "      <td>37.827501</td>\n",
       "      <td>22.882500</td>\n",
       "      <td>1.369971</td>\n",
       "    </tr>\n",
       "    <tr>\n",
       "      <th>max</th>\n",
       "      <td>2872.870117</td>\n",
       "      <td>184.589996</td>\n",
       "      <td>117.480003</td>\n",
       "      <td>47.259998</td>\n",
       "      <td>1.598798</td>\n",
       "    </tr>\n",
       "  </tbody>\n",
       "</table>\n",
       "</div>"
      ],
      "text/plain": [
       "               SPX          GLD          USO          SLV      EUR/USD\n",
       "count  2290.000000  2290.000000  2290.000000  2290.000000  2290.000000\n",
       "mean   1654.315776   122.732875    31.842221    20.084997     1.283653\n",
       "std     519.111540    23.283346    19.523517     7.092566     0.131547\n",
       "min     676.530029    70.000000     7.960000     8.850000     1.039047\n",
       "25%    1239.874969   109.725000    14.380000    15.570000     1.171313\n",
       "50%    1551.434998   120.580002    33.869999    17.268500     1.303297\n",
       "75%    2073.010070   132.840004    37.827501    22.882500     1.369971\n",
       "max    2872.870117   184.589996   117.480003    47.259998     1.598798"
      ]
     },
     "execution_count": 7,
     "metadata": {},
     "output_type": "execute_result"
    }
   ],
   "source": [
    "gold_data.describe()"
   ]
  },
  {
   "cell_type": "code",
   "execution_count": 8,
   "id": "80be2b96",
   "metadata": {},
   "outputs": [],
   "source": [
    "X = gold_data.drop(['Date','GLD'],axis=1)\n",
    "Y = gold_data['GLD']"
   ]
  },
  {
   "cell_type": "code",
   "execution_count": 9,
   "id": "5b018760",
   "metadata": {},
   "outputs": [],
   "source": [
    "X_train, X_test, Y_train, Y_test = train_test_split(X, Y, test_size = 0.2, random_state=2)"
   ]
  },
  {
   "cell_type": "code",
   "execution_count": 10,
   "id": "c601dc89",
   "metadata": {},
   "outputs": [],
   "source": [
    "regressor = RandomForestRegressor(n_estimators=100)"
   ]
  },
  {
   "cell_type": "code",
   "execution_count": 11,
   "id": "b803b386",
   "metadata": {},
   "outputs": [
    {
     "data": {
      "text/html": [
       "<style>#sk-container-id-1 {color: black;}#sk-container-id-1 pre{padding: 0;}#sk-container-id-1 div.sk-toggleable {background-color: white;}#sk-container-id-1 label.sk-toggleable__label {cursor: pointer;display: block;width: 100%;margin-bottom: 0;padding: 0.3em;box-sizing: border-box;text-align: center;}#sk-container-id-1 label.sk-toggleable__label-arrow:before {content: \"▸\";float: left;margin-right: 0.25em;color: #696969;}#sk-container-id-1 label.sk-toggleable__label-arrow:hover:before {color: black;}#sk-container-id-1 div.sk-estimator:hover label.sk-toggleable__label-arrow:before {color: black;}#sk-container-id-1 div.sk-toggleable__content {max-height: 0;max-width: 0;overflow: hidden;text-align: left;background-color: #f0f8ff;}#sk-container-id-1 div.sk-toggleable__content pre {margin: 0.2em;color: black;border-radius: 0.25em;background-color: #f0f8ff;}#sk-container-id-1 input.sk-toggleable__control:checked~div.sk-toggleable__content {max-height: 200px;max-width: 100%;overflow: auto;}#sk-container-id-1 input.sk-toggleable__control:checked~label.sk-toggleable__label-arrow:before {content: \"▾\";}#sk-container-id-1 div.sk-estimator input.sk-toggleable__control:checked~label.sk-toggleable__label {background-color: #d4ebff;}#sk-container-id-1 div.sk-label input.sk-toggleable__control:checked~label.sk-toggleable__label {background-color: #d4ebff;}#sk-container-id-1 input.sk-hidden--visually {border: 0;clip: rect(1px 1px 1px 1px);clip: rect(1px, 1px, 1px, 1px);height: 1px;margin: -1px;overflow: hidden;padding: 0;position: absolute;width: 1px;}#sk-container-id-1 div.sk-estimator {font-family: monospace;background-color: #f0f8ff;border: 1px dotted black;border-radius: 0.25em;box-sizing: border-box;margin-bottom: 0.5em;}#sk-container-id-1 div.sk-estimator:hover {background-color: #d4ebff;}#sk-container-id-1 div.sk-parallel-item::after {content: \"\";width: 100%;border-bottom: 1px solid gray;flex-grow: 1;}#sk-container-id-1 div.sk-label:hover label.sk-toggleable__label {background-color: #d4ebff;}#sk-container-id-1 div.sk-serial::before {content: \"\";position: absolute;border-left: 1px solid gray;box-sizing: border-box;top: 0;bottom: 0;left: 50%;z-index: 0;}#sk-container-id-1 div.sk-serial {display: flex;flex-direction: column;align-items: center;background-color: white;padding-right: 0.2em;padding-left: 0.2em;position: relative;}#sk-container-id-1 div.sk-item {position: relative;z-index: 1;}#sk-container-id-1 div.sk-parallel {display: flex;align-items: stretch;justify-content: center;background-color: white;position: relative;}#sk-container-id-1 div.sk-item::before, #sk-container-id-1 div.sk-parallel-item::before {content: \"\";position: absolute;border-left: 1px solid gray;box-sizing: border-box;top: 0;bottom: 0;left: 50%;z-index: -1;}#sk-container-id-1 div.sk-parallel-item {display: flex;flex-direction: column;z-index: 1;position: relative;background-color: white;}#sk-container-id-1 div.sk-parallel-item:first-child::after {align-self: flex-end;width: 50%;}#sk-container-id-1 div.sk-parallel-item:last-child::after {align-self: flex-start;width: 50%;}#sk-container-id-1 div.sk-parallel-item:only-child::after {width: 0;}#sk-container-id-1 div.sk-dashed-wrapped {border: 1px dashed gray;margin: 0 0.4em 0.5em 0.4em;box-sizing: border-box;padding-bottom: 0.4em;background-color: white;}#sk-container-id-1 div.sk-label label {font-family: monospace;font-weight: bold;display: inline-block;line-height: 1.2em;}#sk-container-id-1 div.sk-label-container {text-align: center;}#sk-container-id-1 div.sk-container {/* jupyter's `normalize.less` sets `[hidden] { display: none; }` but bootstrap.min.css set `[hidden] { display: none !important; }` so we also need the `!important` here to be able to override the default hidden behavior on the sphinx rendered scikit-learn.org. See: https://github.com/scikit-learn/scikit-learn/issues/21755 */display: inline-block !important;position: relative;}#sk-container-id-1 div.sk-text-repr-fallback {display: none;}</style><div id=\"sk-container-id-1\" class=\"sk-top-container\"><div class=\"sk-text-repr-fallback\"><pre>RandomForestRegressor()</pre><b>In a Jupyter environment, please rerun this cell to show the HTML representation or trust the notebook. <br />On GitHub, the HTML representation is unable to render, please try loading this page with nbviewer.org.</b></div><div class=\"sk-container\" hidden><div class=\"sk-item\"><div class=\"sk-estimator sk-toggleable\"><input class=\"sk-toggleable__control sk-hidden--visually\" id=\"sk-estimator-id-1\" type=\"checkbox\" checked><label for=\"sk-estimator-id-1\" class=\"sk-toggleable__label sk-toggleable__label-arrow\">RandomForestRegressor</label><div class=\"sk-toggleable__content\"><pre>RandomForestRegressor()</pre></div></div></div></div></div>"
      ],
      "text/plain": [
       "RandomForestRegressor()"
      ]
     },
     "execution_count": 11,
     "metadata": {},
     "output_type": "execute_result"
    }
   ],
   "source": [
    "regressor.fit(X_train,Y_train)"
   ]
  },
  {
   "cell_type": "code",
   "execution_count": 12,
   "id": "d3944d13",
   "metadata": {},
   "outputs": [],
   "source": [
    "test_data_prediction = regressor.predict(X_test)"
   ]
  },
  {
   "cell_type": "code",
   "execution_count": 13,
   "id": "217cc2c4",
   "metadata": {},
   "outputs": [
    {
     "name": "stdout",
     "output_type": "stream",
     "text": [
      "[168.57569905  81.94750007 115.86899999 127.63350081 120.77490184\n",
      " 154.84759791 150.36109902 126.09450021 117.47239867 125.89440051\n",
      " 116.41210106 171.46300093 141.44369866 167.64709876 115.25069996\n",
      " 117.66450042 139.11640214 170.50180152 159.57360271 160.58390022\n",
      " 155.1033004  125.16709984 175.56439967 156.82360324 125.25860029\n",
      "  93.84339958  76.76370047 120.66399988 119.14509963 167.43759949\n",
      "  88.26220009 125.35059981  91.2555008  117.85620008 121.097499\n",
      " 135.7909006  115.45270113 115.37700078 147.89819944 107.09680099\n",
      " 103.92840201  87.31899806 126.54350093 117.85640039 153.68429893\n",
      " 119.76250001 108.51489973 107.96879846  93.18590042 127.23729713\n",
      "  74.91040034 113.74429928 121.22769998 111.29689939 118.8192988\n",
      " 120.97449953 159.1551994  169.15580111 147.14709637  85.60579838\n",
      "  94.47610028  86.75569863  90.51049997 119.10180086 126.48150078\n",
      " 127.52679958 169.7553994  122.22169946 117.47069909  98.57450022\n",
      " 167.5132009  143.39969761 131.80360258 121.16400192 120.64439968\n",
      " 119.70080076 114.42350187 118.23590057 107.08410088 127.86030066\n",
      " 114.04699947 106.65630021 116.66030063 119.64759876  88.96490063\n",
      "  88.23069848 147.19890242 127.24710011 113.8704994  110.19559838\n",
      " 108.24099895  76.88209916 169.9581018  114.02379899 121.57769932\n",
      " 128.03200217 155.06479855  91.61409911 135.70420088 159.06580332\n",
      " 125.20710075 125.10490013 130.60260152 114.78560122 119.91120022\n",
      "  92.23479984 110.4261988  168.08079991 157.31979939 114.14489932\n",
      " 106.73880138  79.63009984 113.23180051 125.87230083 107.24879923\n",
      " 119.3468008  155.34790303 160.21689937 120.00289998 134.5372024\n",
      " 101.36610015 117.6005979  119.19090028 113.03380087 102.78099923\n",
      " 159.43689786  99.21500051 147.84199908 125.67060094 169.48379886\n",
      " 125.66179833 127.52199673 127.42150166 113.58149944 112.91630068\n",
      " 123.95679934 102.07689891  89.32859967 124.99019907 101.74419934\n",
      " 106.79989943 113.32620089 117.05130088  99.10829967 121.86550063\n",
      " 163.55109959  87.37819891 106.69149962 117.15000089 127.67330146\n",
      " 124.02530051  80.74019941 120.25330101 158.17739759  88.06970019\n",
      " 110.19929943 118.94979948 172.10299872 103.08459915 105.51800028\n",
      " 122.31930024 158.52249736  87.30879829  92.92700059 113.01310027\n",
      " 176.77499927 114.51099968 119.2804002   94.69870084 125.81410032\n",
      " 166.11970003 114.7835006  116.58460142  88.30809849 149.11330057\n",
      " 120.40029964  89.5444999  112.45310038 117.15660068 118.66900099\n",
      "  88.08619926  94.12560029 116.9558003  118.36800191 120.29570001\n",
      " 126.58479831 121.89519954 151.26050002 165.52540069 118.50169967\n",
      " 120.37380123 152.11300062 118.94649909 171.97149877 105.4923994\n",
      " 104.9422013  149.46520076 113.85570101 124.83050117 147.30429964\n",
      " 119.58700099 115.45000083 112.75510036 113.43390236 139.38200096\n",
      " 117.80559789 103.00090046 115.7868008  103.32960169  98.58950047\n",
      " 117.41230063  90.75430024  91.73310064 153.62809853 102.79539981\n",
      " 154.61770058 114.42300147 138.33160111  90.20959843 115.48579957\n",
      " 114.4813997  122.73940055 121.7158997  165.39510127  92.85599944\n",
      " 135.71380191 121.28839943 120.84150046 104.63610012 144.1410023\n",
      " 121.84039915 116.73400036 113.71200056 127.08129719 122.85049929\n",
      " 125.79249943 121.1904005   86.97459892 132.51450125 144.68700193\n",
      "  92.75029927 157.93179925 158.64440224 125.92729937 164.95159912\n",
      " 108.8129997  110.11970077 103.58329825  94.50440058 127.52830255\n",
      " 106.87000051 161.40249947 121.88570051 132.15500077 130.76180135\n",
      " 160.53049894  90.18979837 174.53160212 128.30740038 126.65619853\n",
      "  86.38749914 124.61429965 150.15289727  89.60150008 106.8093997\n",
      " 109.07060024  83.94079912 135.89430044 154.95380237 139.78030307\n",
      "  74.41069993 152.47810089 125.71690007 126.80430023 127.55069877\n",
      " 108.6661999  156.13640096 114.51030136 117.04830146 125.3319994\n",
      " 153.98720115 121.36459969 156.47239867  92.90500048 125.50520158\n",
      " 125.70420025  88.10480074  91.99139932 126.21309896 128.15180279\n",
      " 113.12280019 117.42869735 120.89240019 127.0125978  119.39470082\n",
      " 135.75860063  94.12009933 119.71340029 113.2037014   94.32709944\n",
      " 108.72969955  87.19539926 108.7132994   89.57989956  92.25200008\n",
      " 131.79110366 162.38670051  89.4598002  119.51890102 133.67650151\n",
      " 123.7827999  128.48930165 101.84839841  89.03649896 131.58290027\n",
      " 119.71370034 108.91619964 168.67040103 115.2607      86.69649898\n",
      " 118.7842005   91.04839962 161.64620063 116.50690033 121.55049993\n",
      " 160.33289849 120.07369944 112.65259942 108.40909848 126.68489947\n",
      "  76.14910015 103.04949996 127.4542027  121.95659934  92.57329981\n",
      " 131.67370061 117.95500148 116.44459977 154.36960258 159.598201\n",
      " 109.91159945 155.10539839 119.3316008  160.74590135 118.63000019\n",
      " 159.0301988  115.03749925 116.83110037 148.65399889 114.55790091\n",
      " 125.81069855 166.49859943 117.72940023 125.03239937 153.47470306\n",
      " 153.46950236 132.18660042 114.53430059 121.29540187 125.23840109\n",
      "  89.59240061 123.15060005 154.62790209 111.72850043 106.67859981\n",
      " 161.47460149 118.67479968 165.69979994 134.28480108 115.08069968\n",
      " 152.93779889 168.68640059 115.62320003 114.10180112 158.06079868\n",
      "  85.20779903 127.21170037 127.96770081 128.76899987 124.38610089\n",
      " 123.7232002   90.63520053 153.01170027  97.20339976 137.1849994\n",
      "  89.24359918 106.66120018 115.06190024 112.7766009  124.21289918\n",
      "  91.43959861 125.3980014  162.48829895 119.97499871 165.01350092\n",
      " 126.66219804 112.32040024 127.51039957  95.0270994   90.90090004\n",
      " 102.78399919 120.81269997  83.25009916 126.45660014 160.63640423\n",
      " 117.22280094 118.12179946 120.05289968 122.92659974 120.10020116\n",
      " 121.50240001 118.34380051 106.7383999  148.13529959 126.19379823\n",
      " 115.76390086  73.88330004 127.80680115 153.83540047 123.2809002\n",
      " 125.56900054  88.85760012 103.12299907 124.22380084 120.15200064\n",
      "  73.54490057 151.51549986 121.19180026 104.85030009  86.40089766\n",
      " 114.96129904 172.20039761 119.69760074 160.55009782 113.16179953\n",
      " 120.8470001  118.46940137  95.82599977 118.63800023 126.01720044\n",
      " 118.58749955  96.17400122 153.93920188 122.11139989 148.25490002\n",
      " 159.6991027  114.01889998 122.4917995  149.61979877 126.86900027\n",
      " 165.69040027 134.7788002  120.11609896 167.49029915 108.42619914\n",
      " 121.77119849 137.58870145 106.50509897]\n"
     ]
    }
   ],
   "source": [
    "print(test_data_prediction)"
   ]
  },
  {
   "cell_type": "code",
   "execution_count": 14,
   "id": "3cdcc6d5",
   "metadata": {},
   "outputs": [],
   "source": [
    "import pickle\n",
    "with open('gold_price_model.pkl', 'wb') as file:\n",
    "    pickle.dump(regressor, file)"
   ]
  },
  {
   "cell_type": "code",
   "execution_count": null,
   "id": "a9c8f9b4",
   "metadata": {},
   "outputs": [],
   "source": []
  }
 ],
 "metadata": {
  "kernelspec": {
   "display_name": "Python 3 (ipykernel)",
   "language": "python",
   "name": "python3"
  },
  "language_info": {
   "codemirror_mode": {
    "name": "ipython",
    "version": 3
   },
   "file_extension": ".py",
   "mimetype": "text/x-python",
   "name": "python",
   "nbconvert_exporter": "python",
   "pygments_lexer": "ipython3",
   "version": "3.11.5"
  }
 },
 "nbformat": 4,
 "nbformat_minor": 5
}
